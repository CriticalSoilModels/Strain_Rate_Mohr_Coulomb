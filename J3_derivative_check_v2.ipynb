{
 "cells": [
  {
   "cell_type": "markdown",
   "metadata": {},
   "source": [
    "# Checking \n",
    "\n",
    "From wikipedia and from Kayenta\n",
    "$$\\frac{\\partial J_{3} }{\\partial \\sigma} = s^{2} - \\frac{2}{3} J_{2} 1$$\n",
    "\n",
    "I want to see if the values come out the same if I calcualte the derivatives of the determinant "
   ]
  },
  {
   "cell_type": "code",
   "execution_count": 1,
   "metadata": {},
   "outputs": [],
   "source": [
    "import sympy as sp"
   ]
  },
  {
   "cell_type": "code",
   "execution_count": 2,
   "metadata": {},
   "outputs": [],
   "source": [
    "# Varaibles that will be operated on\n",
    "# p: Mean stress\n",
    "# t_ij: Components of the stress tensor\n",
    "t11, t22, t33, t12, t13, t23, p= sp.symbols('t11 t22 t33 t12 t13 t23 p') \n",
    "\n",
    "s, J2, I = sp.symbols('s, J2, I')\n",
    "\n",
    "I = sp.Matrix([[1, 0, 0],\n",
    "               [0, 1, 0],\n",
    "               [0, 0, 1]]\n",
    "              )\n",
    "\n",
    "p = 1/3* (t11 + t22 + t33)\n",
    "\n",
    "# J3: Stress invariant (det (s) )\n",
    "J3=  (t11 - p) * (t22 - p) * (t33 - p) - (t11 - p) * t23**2 - (t22 - p) * t13**2 - (t33 - p) * t12**2 + 2 * t12 * t13 * t23\n",
    "\n",
    "stress_list = [t11, t22, t33, t12, t13, t23]"
   ]
  },
  {
   "cell_type": "code",
   "execution_count": 60,
   "metadata": {},
   "outputs": [
    {
     "name": "stdout",
     "output_type": "stream",
     "text": [
      "- t_{12}^{2} \\left(- \\frac{t_{11}}{3} - \\frac{t_{22}}{3} + \\frac{2 t_{33}}{3}\\right) + 2 t_{12} t_{13} t_{23} - t_{13}^{2} \\left(- \\frac{t_{11}}{3} + \\frac{2 t_{22}}{3} - \\frac{t_{33}}{3}\\right) - t_{23}^{2} \\left(\\frac{2 t_{11}}{3} - \\frac{t_{22}}{3} - \\frac{t_{33}}{3}\\right) + \\left(- \\frac{t_{11}}{3} - \\frac{t_{22}}{3} + \\frac{2 t_{33}}{3}\\right) \\left(- \\frac{t_{11}}{3} + \\frac{2 t_{22}}{3} - \\frac{t_{33}}{3}\\right) \\left(\\frac{2 t_{11}}{3} - \\frac{t_{22}}{3} - \\frac{t_{33}}{3}\\right)\n"
     ]
    }
   ],
   "source": [
    "print(sp.latex(sp.nsimplify(J3)))"
   ]
  },
  {
   "cell_type": "markdown",
   "metadata": {},
   "source": [
    "$$- t_{12}^{2} \\left(- \\frac{t_{11}}{3} - \\frac{t_{22}}{3} + \\frac{2 t_{33}}{3}\\right) + 2 t_{12} t_{13} t_{23} - t_{13}^{2} \\left(- \\frac{t_{11}}{3} + \\frac{2 t_{22}}{3} - \\frac{t_{33}}{3}\\right) - t_{23}^{2} \\left(\\frac{2 t_{11}}{3} - \\frac{t_{22}}{3} - \\frac{t_{33}}{3}\\right) + \\left(- \\frac{t_{11}}{3} - \\frac{t_{22}}{3} + \\frac{2 t_{33}}{3}\\right) \\left(- \\frac{t_{11}}{3} + \\frac{2 t_{22}}{3} - \\frac{t_{33}}{3}\\right) \\left(\\frac{2 t_{11}}{3} - \\frac{t_{22}}{3} - \\frac{t_{33}}{3}\\right)$$"
   ]
  },
  {
   "cell_type": "code",
   "execution_count": 30,
   "metadata": {},
   "outputs": [
    {
     "name": "stdout",
     "output_type": "stream",
     "text": [
      "Derivative wrt. t11\n",
      "\\frac{2 t_{11}^{2}}{9} - \\frac{2 t_{11} t_{22}}{9} - \\frac{2 t_{11} t_{33}}{9} + \\frac{t_{12}^{2}}{3} + \\frac{t_{13}^{2}}{3} - \\frac{t_{22}^{2}}{9} + \\frac{4 t_{22} t_{33}}{9} - \\frac{2 t_{23}^{2}}{3} - \\frac{t_{33}^{2}}{9}\n",
      "-----------------------------------------------------\n",
      "Derivative wrt. t22\n",
      "- \\frac{t_{11}^{2}}{9} - \\frac{2 t_{11} t_{22}}{9} + \\frac{4 t_{11} t_{33}}{9} + \\frac{t_{12}^{2}}{3} - \\frac{2 t_{13}^{2}}{3} + \\frac{2 t_{22}^{2}}{9} - \\frac{2 t_{22} t_{33}}{9} + \\frac{t_{23}^{2}}{3} - \\frac{t_{33}^{2}}{9}\n",
      "-----------------------------------------------------\n",
      "Derivative wrt. t33\n",
      "- \\frac{t_{11}^{2}}{9} + \\frac{4 t_{11} t_{22}}{9} - \\frac{2 t_{11} t_{33}}{9} - \\frac{2 t_{12}^{2}}{3} + \\frac{t_{13}^{2}}{3} - \\frac{t_{22}^{2}}{9} - \\frac{2 t_{22} t_{33}}{9} + \\frac{t_{23}^{2}}{3} + \\frac{2 t_{33}^{2}}{9}\n",
      "-----------------------------------------------------\n",
      "Derivative wrt. t12\n",
      "\\frac{2 t_{11} t_{12}}{3} + \\frac{2 t_{12} t_{22}}{3} - \\frac{4 t_{12} t_{33}}{3} + 2 t_{13} t_{23}\n",
      "-----------------------------------------------------\n",
      "Derivative wrt. t13\n",
      "\\frac{2 t_{11} t_{13}}{3} + 2 t_{12} t_{23} - \\frac{4 t_{13} t_{22}}{3} + \\frac{2 t_{13} t_{33}}{3}\n",
      "-----------------------------------------------------\n",
      "Derivative wrt. t23\n",
      "- \\frac{4 t_{11} t_{23}}{3} + 2 t_{12} t_{13} + \\frac{2 t_{22} t_{23}}{3} + \\frac{2 t_{23} t_{33}}{3}\n",
      "-----------------------------------------------------\n"
     ]
    }
   ],
   "source": [
    "Latex = True\n",
    "\n",
    "# Loop over the stress terms and calculate the derivatives\n",
    "for stress in stress_list:\n",
    "    # Calc the derivative\n",
    "    deriv = J3.diff(stress, evaluate = True)\n",
    "    deriv_simp = sp.nsimplify(deriv)\n",
    "    \n",
    "    # Print the result with a label and a newline\n",
    "    print(f\"Derivative wrt. {stress}\")\n",
    "\n",
    "    # Expand the terms and combine like terms\n",
    "    deriv_simp = sp.expand(deriv_simp)\n",
    "\n",
    "    # Switch for if the output should be in latex format\n",
    "    if Latex:\n",
    "        deriv_simp = sp.latex(deriv_simp)\n",
    "        deriv_simp\n",
    "        print(deriv_simp)\n",
    "    else:\n",
    "        sp.pprint(deriv_simp)\n",
    "    print(\"-----------------------------------------------------\")"
   ]
  },
  {
   "cell_type": "code",
   "execution_count": 69,
   "metadata": {},
   "outputs": [],
   "source": [
    "s = sp.Matrix([[t11 - p, t12, t13],\n",
    "               [t12, t22 - p, t23],\n",
    "               [t13, t23, t33-p]]\n",
    "            )\n",
    "\n",
    "# J2 Stress invariant\n",
    "J2 = 1/2 * ((t11-p)**2 + (t22-p)**2 + (t33-p)**2 + 2*(t12**2 + t13**2 + t23**2))\n",
    "\n",
    "imech_ans = s *s - 2/3 * J2 * I"
   ]
  },
  {
   "cell_type": "code",
   "execution_count": 70,
   "metadata": {},
   "outputs": [
    {
     "data": {
      "image/png": "[encoded data removed]",
      "text/latex": [
       "$\\displaystyle \\left[\\begin{matrix}\\frac{2 t_{11}}{3} - \\frac{t_{22}}{3} - \\frac{t_{33}}{3} & t_{12} & t_{13}\\\\t_{12} & - \\frac{t_{11}}{3} + \\frac{2 t_{22}}{3} - \\frac{t_{33}}{3} & t_{23}\\\\t_{13} & t_{23} & - \\frac{t_{11}}{3} - \\frac{t_{22}}{3} + \\frac{2 t_{33}}{3}\\end{matrix}\\right]$"
      ],
      "text/plain": [
       "⎡2⋅t₁₁   t₂₂   t₃₃                                          ⎤\n",
       "⎢───── - ─── - ───          t₁₂                  t₁₃        ⎥\n",
       "⎢  3      3     3                                           ⎥\n",
       "⎢                                                           ⎥\n",
       "⎢                     t₁₁   2⋅t₂₂   t₃₃                     ⎥\n",
       "⎢       t₁₂         - ─── + ───── - ───          t₂₃        ⎥\n",
       "⎢                      3      3      3                      ⎥\n",
       "⎢                                                           ⎥\n",
       "⎢                                          t₁₁   t₂₂   2⋅t₃₃⎥\n",
       "⎢       t₁₃                 t₂₃          - ─── - ─── + ─────⎥\n",
       "⎣                                           3     3      3  ⎦"
      ]
     },
     "execution_count": 70,
     "metadata": {},
     "output_type": "execute_result"
    }
   ],
   "source": [
    "sp.nsimplify(s)"
   ]
  },
  {
   "cell_type": "code",
   "execution_count": 71,
   "metadata": {},
   "outputs": [],
   "source": [
    "imech_ans_simp =sp.nsimplify(imech_ans)\n",
    "imech_ans_simp = sp.expand(imech_ans_simp)"
   ]
  },
  {
   "cell_type": "code",
   "execution_count": 72,
   "metadata": {},
   "outputs": [
    {
     "data": {
      "image/png": "[encoded data removed]",
      "text/latex": [
       "$\\displaystyle \\frac{2 t_{11}^{2}}{9} - \\frac{2 t_{11} t_{22}}{9} - \\frac{2 t_{11} t_{33}}{9} + \\frac{t_{12}^{2}}{3} + \\frac{t_{13}^{2}}{3} - \\frac{t_{22}^{2}}{9} + \\frac{4 t_{22} t_{33}}{9} - \\frac{2 t_{23}^{2}}{3} - \\frac{t_{33}^{2}}{9}$"
      ],
      "text/plain": [
       "     2                              2      2      2                    2      2\n",
       "2⋅t₁₁    2⋅t₁₁⋅t₂₂   2⋅t₁₁⋅t₃₃   t₁₂    t₁₃    t₂₂    4⋅t₂₂⋅t₃₃   2⋅t₂₃    t₃₃ \n",
       "────── - ───────── - ───────── + ──── + ──── - ──── + ───────── - ────── - ────\n",
       "  9          9           9        3      3      9         9         3       9  "
      ]
     },
     "execution_count": 72,
     "metadata": {},
     "output_type": "execute_result"
    }
   ],
   "source": [
    "imech_ans_simp[0,0]"
   ]
  },
  {
   "attachments": {
    "image.png": {
     "image/png": "[encoded data removed]"
    }
   },
   "cell_type": "markdown",
   "metadata": {},
   "source": [
    "![image.png](attachment:image.png)"
   ]
  },
  {
   "cell_type": "code",
   "execution_count": 78,
   "metadata": {},
   "outputs": [
    {
     "data": {
      "image/png": "[encoded data removed]",
      "text/latex": [
       "$\\displaystyle \\frac{t_{11} t_{12}}{3} + \\frac{t_{12} t_{22}}{3} - \\frac{2 t_{12} t_{33}}{3} + t_{13} t_{23}$"
      ],
      "text/plain": [
       "t₁₁⋅t₁₂   t₁₂⋅t₂₂   2⋅t₁₂⋅t₃₃          \n",
       "─────── + ─────── - ───────── + t₁₃⋅t₂₃\n",
       "   3         3          3              "
      ]
     },
     "execution_count": 78,
     "metadata": {},
     "output_type": "execute_result"
    }
   ],
   "source": [
    "imech_ans_simp[0,1]"
   ]
  },
  {
   "cell_type": "code",
   "execution_count": 79,
   "metadata": {},
   "outputs": [
    {
     "data": {
      "image/png": "[encoded data removed]",
      "text/latex": [
       "$\\displaystyle \\frac{t_{11} t_{12}}{3} + \\frac{t_{12} t_{22}}{3} - \\frac{2 t_{12} t_{33}}{3} + t_{13} t_{23}$"
      ],
      "text/plain": [
       "t₁₁⋅t₁₂   t₁₂⋅t₂₂   2⋅t₁₂⋅t₃₃          \n",
       "─────── + ─────── - ───────── + t₁₃⋅t₂₃\n",
       "   3         3          3              "
      ]
     },
     "execution_count": 79,
     "metadata": {},
     "output_type": "execute_result"
    }
   ],
   "source": [
    "imech_ans_simp[1, 0]"
   ]
  },
  {
   "cell_type": "code",
   "execution_count": 80,
   "metadata": {},
   "outputs": [
    {
     "data": {
      "image/png": "[encoded data removed]",
      "text/latex": [
       "$\\displaystyle \\frac{2 t_{11} t_{12}}{3} + \\frac{2 t_{12} t_{22}}{3} - \\frac{4 t_{12} t_{33}}{3} + 2 t_{13} t_{23}$"
      ],
      "text/plain": [
       "2⋅t₁₁⋅t₁₂   2⋅t₁₂⋅t₂₂   4⋅t₁₂⋅t₃₃            \n",
       "───────── + ───────── - ───────── + 2⋅t₁₃⋅t₂₃\n",
       "    3           3           3                "
      ]
     },
     "execution_count": 80,
     "metadata": {},
     "output_type": "execute_result"
    }
   ],
   "source": [
    "imech_ans_simp[0,1] + imech_ans_simp[1, 0]"
   ]
  },
  {
   "cell_type": "code",
   "execution_count": null,
   "metadata": {},
   "outputs": [],
   "source": []
  }
 ],
 "metadata": {
  "kernelspec": {
   "display_name": "VT_Research",
   "language": "python",
   "name": "python3"
  },
  "language_info": {
   "codemirror_mode": {
    "name": "ipython",
    "version": 3
   },
   "file_extension": ".py",
   "mimetype": "text/x-python",
   "name": "python",
   "nbconvert_exporter": "python",
   "pygments_lexer": "ipython3",
   "version": "3.12.5"
  }
 },
 "nbformat": 4,
 "nbformat_minor": 2
}
