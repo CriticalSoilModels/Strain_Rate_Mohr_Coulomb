{
 "cells": [
  {
   "cell_type": "markdown",
   "metadata": {},
   "source": [
    "# Checking \n",
    "\n",
    "From wikipedia and from Kayenta\n",
    "$$\\frac{\\partial J_{3} }{\\partial \\sigma} = s^{2} - \\frac{2}{3} J_{2} 1$$\n",
    "\n",
    "I want to see if the values come out the same if I calcualte the derivatives of the determinant "
   ]
  },
  {
   "cell_type": "code",
   "execution_count": null,
   "metadata": {},
   "outputs": [],
   "source": [
    "import sympy as sp"
   ]
  },
  {
   "cell_type": "code",
   "execution_count": null,
   "metadata": {},
   "outputs": [],
   "source": [
    "# Varaibles that will be operated on\n",
    "# p: Mean stress\n",
    "# t_ij: Components of the stress tensor\n",
    "e11, e22, e33, g12, g13, g23, p= sp.symbols('e11 e22 e33 g12 g13 g23 p') \n",
    "\n",
    "Eps_q = 1/3 * (2 * ( (e22 - e33)**2 + (e33-e11)**2 + (e11-e22)**2) + \n",
    "               3 * ( g23**2 + g13**2 + g12**2 ) )**0.5\n",
    "\n",
    "strain_list = [e11, e22, e33, g12, g13, g23]"
   ]
  },
  {
   "cell_type": "code",
   "execution_count": null,
   "metadata": {},
   "outputs": [],
   "source": [
    "Latex = True\n",
    "\n",
    "# Loop over the strain terms and calculate the derivatives\n",
    "for strain in strain_list:\n",
    "    # Calc the derivative\n",
    "    deriv = Eps_q.diff(strain, evaluate = True)\n",
    "    deriv_simp = sp.nsimplify(deriv)\n",
    "    \n",
    "    # Print the result with a label and a newline\n",
    "    print(f\"Derivative wrt. {strain}\")\n",
    "\n",
    "    # Expand the terms and combine like terms\n",
    "    deriv_simp = sp.expand(deriv_simp)\n",
    "\n",
    "    # Switch for if the output should be in latex format\n",
    "    if Latex:\n",
    "        deriv_simp = sp.latex(deriv_simp)\n",
    "        deriv_simp\n",
    "        print(deriv_simp)\n",
    "    else:\n",
    "        sp.pprint(deriv_simp)\n",
    "    print(\"-----------------------------------------------------\")"
   ]
  },
  {
   "cell_type": "code",
   "execution_count": null,
   "metadata": {},
   "outputs": [],
   "source": [
    "Eps_q"
   ]
  },
  {
   "cell_type": "code",
   "execution_count": null,
   "metadata": {},
   "outputs": [],
   "source": [
    "eps_mean = (e11 + e22 + e33)/3\n",
    "dev_Eps = sp.Matrix([[e11-eps_mean, e22-eps_mean, e33-eps_mean, g12, g13, g23]])\n",
    "\n",
    "matrix = 2/ (3 * Eps_q) * dev_Eps\n",
    "\n",
    "matrix_simp = sp.nsimplify(matrix)\n",
    "matrix_simp = sp.expand(matrix_simp)\n",
    "matrix_simp = sp.latex(matrix_simp)\n",
    "\n",
    "print(matrix_simp)"
   ]
  },
  {
   "cell_type": "code",
   "execution_count": null,
   "metadata": {},
   "outputs": [],
   "source": [
    "for val in matrix_simp:\n",
    "    print(val)"
   ]
  },
  {
   "cell_type": "code",
   "execution_count": null,
   "metadata": {},
   "outputs": [],
   "source": [
    "sp.nsimplify(s)"
   ]
  },
  {
   "cell_type": "code",
   "execution_count": null,
   "metadata": {},
   "outputs": [],
   "source": [
    "imech_ans_simp =sp.nsimplify(imech_ans)\n",
    "imech_ans_simp = sp.expand(imech_ans_simp)"
   ]
  },
  {
   "cell_type": "code",
   "execution_count": null,
   "metadata": {},
   "outputs": [],
   "source": [
    "imech_ans_simp[0,0]"
   ]
  },
  {
   "attachments": {
    "image.png": {
     "image/png": "[encoded data removed]"
    }
   },
   "cell_type": "markdown",
   "metadata": {},
   "source": [
    "![image.png](attachment:image.png)"
   ]
  },
  {
   "cell_type": "code",
   "execution_count": null,
   "metadata": {},
   "outputs": [],
   "source": [
    "imech_ans_simp[0,1]"
   ]
  },
  {
   "cell_type": "code",
   "execution_count": null,
   "metadata": {},
   "outputs": [],
   "source": [
    "imech_ans_simp[1, 0]"
   ]
  },
  {
   "cell_type": "code",
   "execution_count": null,
   "metadata": {},
   "outputs": [],
   "source": [
    "imech_ans_simp[0,1] + imech_ans_simp[1, 0]"
   ]
  },
  {
   "cell_type": "code",
   "execution_count": null,
   "metadata": {},
   "outputs": [],
   "source": []
  }
 ],
 "metadata": {
  "kernelspec": {
   "display_name": "VT_Research",
   "language": "python",
   "name": "python3"
  },
  "language_info": {
   "codemirror_mode": {
    "name": "ipython",
    "version": 3
   },
   "file_extension": ".py",
   "mimetype": "text/x-python",
   "name": "python",
   "nbconvert_exporter": "python",
   "pygments_lexer": "ipython3",
   "version": "3.12.5"
  }
 },
 "nbformat": 4,
 "nbformat_minor": 2
}
